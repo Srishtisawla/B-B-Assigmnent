{
 "cells": [
  {
   "cell_type": "code",
   "execution_count": 1,
   "metadata": {},
   "outputs": [],
   "source": [
    "#packages required\n",
    "import requests\n",
    "from bs4 import BeautifulSoup\n",
    "import pandas as pd\n",
    "import urllib\n",
    "from selenium import webdriver\n",
    "from selenium.webdriver.common.keys import Keys\n",
    "import os\n",
    "import re\n",
    "import datetime"
   ]
  },
  {
   "cell_type": "code",
   "execution_count": 2,
   "metadata": {},
   "outputs": [],
   "source": [
    "#url of the graph data\n",
    "#On checking the network tab in developer mode,it was found that data for the graph was available in this link\n",
    "url=\"https://www.deribit.com/ajax?q=prch&range=1y&index_name=btc_usd\""
   ]
  },
  {
   "cell_type": "code",
   "execution_count": 3,
   "metadata": {},
   "outputs": [],
   "source": [
    "# scraping json data available in the url\n",
    "import requests\n",
    "import json\n",
    "r = requests.get(url)\n",
    "cont = json.loads(r.content)\n",
    "data=pd.DataFrame(cont)"
   ]
  },
  {
   "cell_type": "code",
   "execution_count": 6,
   "metadata": {},
   "outputs": [
    {
     "name": "stderr",
     "output_type": "stream",
     "text": [
      "C:\\Users\\Srishti Sawla\\AppData\\Local\\Continuum\\anaconda3\\lib\\site-packages\\ipykernel_launcher.py:4: SettingWithCopyWarning: \n",
      "A value is trying to be set on a copy of a slice from a DataFrame\n",
      "\n",
      "See the caveats in the documentation: http://pandas.pydata.org/pandas-docs/stable/indexing.html#indexing-view-versus-copy\n",
      "  after removing the cwd from sys.path.\n"
     ]
    }
   ],
   "source": [
    "#converting timestamp into datetime values\n",
    "data['date']=datetime.datetime( 1970, 1, 1 )\n",
    "for i in range(len(data)):\n",
    "    data['date'][i] = datetime.datetime( 1970, 1, 1 ) + datetime.timedelta( 0, 0, 0, int(data[0][i]))\n",
    "data = data.rename(columns = {0: \"Timestamp\",1:\"Amount in Dollars\"}) "
   ]
  },
  {
   "cell_type": "code",
   "execution_count": 7,
   "metadata": {},
   "outputs": [
    {
     "data": {
      "text/html": [
       "<div>\n",
       "<style scoped>\n",
       "    .dataframe tbody tr th:only-of-type {\n",
       "        vertical-align: middle;\n",
       "    }\n",
       "\n",
       "    .dataframe tbody tr th {\n",
       "        vertical-align: top;\n",
       "    }\n",
       "\n",
       "    .dataframe thead th {\n",
       "        text-align: right;\n",
       "    }\n",
       "</style>\n",
       "<table border=\"1\" class=\"dataframe\">\n",
       "  <thead>\n",
       "    <tr style=\"text-align: right;\">\n",
       "      <th></th>\n",
       "      <th>Timestamp</th>\n",
       "      <th>Amount in Dollars</th>\n",
       "      <th>date</th>\n",
       "    </tr>\n",
       "  </thead>\n",
       "  <tbody>\n",
       "    <tr>\n",
       "      <th>0</th>\n",
       "      <td>1524765600000</td>\n",
       "      <td>8841.230332</td>\n",
       "      <td>2018-04-26 18:00:00</td>\n",
       "    </tr>\n",
       "    <tr>\n",
       "      <th>1</th>\n",
       "      <td>1524787200000</td>\n",
       "      <td>9048.745558</td>\n",
       "      <td>2018-04-27 00:00:00</td>\n",
       "    </tr>\n",
       "    <tr>\n",
       "      <th>2</th>\n",
       "      <td>1524808800000</td>\n",
       "      <td>9227.726276</td>\n",
       "      <td>2018-04-27 06:00:00</td>\n",
       "    </tr>\n",
       "    <tr>\n",
       "      <th>3</th>\n",
       "      <td>1524830400000</td>\n",
       "      <td>9271.306133</td>\n",
       "      <td>2018-04-27 12:00:00</td>\n",
       "    </tr>\n",
       "    <tr>\n",
       "      <th>4</th>\n",
       "      <td>1524852000000</td>\n",
       "      <td>9261.126189</td>\n",
       "      <td>2018-04-27 18:00:00</td>\n",
       "    </tr>\n",
       "  </tbody>\n",
       "</table>\n",
       "</div>"
      ],
      "text/plain": [
       "       Timestamp  Amount in Dollars                date\n",
       "0  1524765600000        8841.230332 2018-04-26 18:00:00\n",
       "1  1524787200000        9048.745558 2018-04-27 00:00:00\n",
       "2  1524808800000        9227.726276 2018-04-27 06:00:00\n",
       "3  1524830400000        9271.306133 2018-04-27 12:00:00\n",
       "4  1524852000000        9261.126189 2018-04-27 18:00:00"
      ]
     },
     "execution_count": 7,
     "metadata": {},
     "output_type": "execute_result"
    }
   ],
   "source": [
    "data.head()"
   ]
  }
 ],
 "metadata": {
  "kernelspec": {
   "display_name": "Python 3",
   "language": "python",
   "name": "python3"
  },
  "language_info": {
   "codemirror_mode": {
    "name": "ipython",
    "version": 3
   },
   "file_extension": ".py",
   "mimetype": "text/x-python",
   "name": "python",
   "nbconvert_exporter": "python",
   "pygments_lexer": "ipython3",
   "version": "3.7.0"
  }
 },
 "nbformat": 4,
 "nbformat_minor": 2
}
